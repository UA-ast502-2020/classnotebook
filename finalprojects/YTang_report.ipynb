{
 "cells": [
  {
   "cell_type": "markdown",
   "metadata": {
    "slideshow": {
     "slide_type": "slide"
    }
   },
   "source": [
    "<h1 style=\"text-align:center\">Identification and Classification of Boulders on Asteroid Bennu</h1><br>\n",
    "<p style=\"text-align:center\">Yuhui Tang</p>\n",
    "<p style=\"text-align:center\">May 1st, 2020</p>"
   ]
  },
  {
   "cell_type": "markdown",
   "metadata": {
    "slideshow": {
     "slide_type": "slide"
    }
   },
   "source": [
    "<h2>1. Background</h2>\n",
    "\n",
    "The Origins, Spectral Interpretation, Resource Identification, Security, Regolith Explorer (OSIRIS-REx) mission is currently preparing for sample collection on the asteroid Bennu, In preparation for this, the spacecraft has conducted high resolution imaging of the asteroid surface. The images revealed a surface dominated by a varied population of boulders, with differences in albedo, texture, and sizes.\n",
    "\n",
    "Due to the nature of sample collection mission, it is vital to understand the boulders that make up the surface of Bennu. Several different areas of research are of interest, including boulder movement and boulder classification. Across the asteroid, several areas of potential mass movement of boulder have been identified. Some of these are within cratering features, while others appear related to other global patterns such as slopes or thermal inertia differences. These areas can inform us about the history of Bennu's surface, as well as the eventual evolution of the body. \n",
    "\n",
    "On the other hand, the varying properties of the boulders appear to differentiate them into several types. Three have been identified by the OSIRIS-REx team, and they are shown in Fig. 1. Type A are darker than Bennu average, and have rounded to sub-rounded angularity, with surface texture covered in clasts of up to tens of cm. Type B have similar brightness to the Bennu average and have rounded angularity with some planar surfaces. Some have visible clasts, but most have rough, sandpaper like surfaces. Finally, type C have imilar to brighter albedos than the Bennu average, and have angular and sharp edges, with visible planar surfaces. There are no visible clasts on them, and they are relatively small compared to other boulder types (<~10m).\n",
    "\n",
    "Figure from RDWG of OSIRIS-REx mission. \n",
    "\n",
    "Fig. 1\n",
    "<img src=\"YTang_report_figures/Boulder_types.png\">"
   ]
  },
  {
   "cell_type": "markdown",
   "metadata": {
    "slideshow": {
     "slide_type": "slide"
    }
   },
   "source": [
    "<h2>2. Applications from Class Materials</h2>\n",
    "\n",
    "Three major uses of machine learning can be identified in my current research. These include automated boulder counting, automated boulder classification, and simulation of former terrain. Another use of class material would be using Bayesian statistics to understand the significance of boulder distributions in certain hypothesised boulder flow region. \n",
    "\n",
    "<h3>2.1 Automated boulder counting</h3>\n",
    "\n",
    "Both topics discussed above, boulder movement and boulder classification, would require large quantities of boulder counting. This is currently done by hand, which is a time consuming and tiring processes. However, there is the possibility of automating this process, in part through machine learning. \n",
    "\n",
    "Down to a certain size, which would depend on the resolution of the image, boulders in the OSIRIS-REx images would have certain distinctive features, such as sharp change in albedo compared to surrounding material (sort of rim), a relative lighter surface (catching the sunlight) right next to very dark shadows (shadow opposite direction of sun, which is known for each image), and either a relatively consistent brightness (flat surface) or a gradual brightness change (curved surface). \n",
    "\n",
    "One possible method of doing this automation would be through Convolutional Neural Network (CNN). Such a network will look for the sharp change in pixel value between a boulder and its accompaning shadow, which is always in a specified direction. The training can be conducted using images where boulders have already been counted to a certain completeness limit. \n",
    "\n",
    "The result should identify boulder candidates, which can then quickly be manually checked. The extent of the boulder can also be found, through the rim each would exhibit. \n",
    "\n",
    "<h3>2.2 Automated boulder classification</h3>\n",
    "\n",
    "After a boulder is counted, it is possible to analyze the section of the image that the boulder occupies. Again using a CNN, though this time only on the particular boulder, patterns that would fit one of the three different boulder types can be used in the convolution layer step. This can help identify different patterns that may be present on each of the boulders, identifying which type it belongs to. Previous studies covering ~200 boulders can be used for training, and furhter data can be compiled. \n",
    "\n",
    "<h3>2.3 Ancient terrain estimation</h3>\n",
    "\n",
    "The investigation of boulder flow has raised the possibility of estimating past terrain features on Bennu. With physcial characteristics of the material either known or within constraint (and possibly better understood with returned samples), the physics of any boulder movement should be within simulation limits. This leaves the original terrain as the only unknown in the simulation of a boulder flow. \n",
    "\n",
    "While the the overall characteristics (slope, size) are known, details are missing in the \"ancient terrain\" data. This can be solved by using a few specific macro terrains, then generate details using Monte Carlo simulation with boulder flows to compare the macro-scale terrains to see which is the most likely. The results of the simulations can then be compared to the actual boulder flow to determine likely features of an ancient terrain. This then goes into the final application of class materials for my research. \n",
    "\n",
    "<h3>2.4 Boulder distribution statistics</h3>\n",
    "\n",
    "The distribution of boulder across specific areas of interest can inform us about how the boulder may have formed or had been brough to their current location. However, we need to be certain of the significance of any distributions that we may see. As such, we can use Bayesian statistics studied in class for this. \n",
    "\n",
    "In the case of simulations from section 2.3, it would be useful to have Bayesian statistics compare the results of different simulationto each other. Similarly, current analysis of boulder distribution have shown interesting longitutinal and latitudinal features. In Fig. 2, the latitudinal distribution of boulders show an interesting distribution that concentrates near the relative low elevation area, and similarly in Fig. 3, the longitudinal distribution has the same concentration and the relative low elevation area. It would be possible to run Monte Carlo simulations with various parameters to see how likely a random, uniform distribution compares against a  distribution centered at the low elevation areas. \n",
    "\n",
    "Fig. 2\n",
    "<img src=\"YTang_report_figures/latitude_distribution.png\">\n",
    "\n",
    "Fig. 3\n",
    "<img src=\"YTang_report_figures/longitude_distribution.png\">"
   ]
  },
  {
   "cell_type": "code",
   "execution_count": null,
   "metadata": {},
   "outputs": [],
   "source": []
  }
 ],
 "metadata": {
  "celltoolbar": "Slideshow",
  "kernelspec": {
   "display_name": "Python 3",
   "language": "python",
   "name": "python3"
  },
  "language_info": {
   "codemirror_mode": {
    "name": "ipython",
    "version": 3
   },
   "file_extension": ".py",
   "mimetype": "text/x-python",
   "name": "python",
   "nbconvert_exporter": "python",
   "pygments_lexer": "ipython3",
   "version": "3.6.9"
  }
 },
 "nbformat": 4,
 "nbformat_minor": 4
}
