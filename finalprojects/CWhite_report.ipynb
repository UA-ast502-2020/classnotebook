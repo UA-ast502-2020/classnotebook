{
 "cells": [
  {
   "cell_type": "markdown",
   "metadata": {},
   "source": [
    "# Galaxy SED Fitting\n",
    "\n",
    "SED fitting is the primary method by which astronomers extract physical properties from galaxy SEDs. At its core, this process involves comparing observed spectra/photometry to a suite of modeled spectra/photometry to infer a galaxy's mass, age, metallicity, redshift, etc. In this notebook, I demonstrate the very basics of galaxy SED fitting utilizing chi-squared minimization over a grid of galaxy masses and ages."
   ]
  },
  {
   "cell_type": "markdown",
   "metadata": {},
   "source": [
    "## Generate grid of model SSP SEDs\n",
    "\n",
    "Our first step is to load in the models that we'll be comparing (fitting) our data to. For this purpose, I chose to use models from the Binary Population and Spectral Synthesis (BPASS) code (Eldridge et al. 2017). For the sake of memory usage and clarity in illustrating the fundamentals of SED fitting, I use only one grid of simple stellar population (SSP) SEDs with varying ages at a fixed metallicity (solar) assuming a Chabrier IMF.\n",
    "\n",
    "The template set is encoded in a single ascii file which contains a wavelength column spanning 1-100,000 Angstroms and 51 model SED columns, each corresponding to an age between $10^6$ and $10^{11}$ yr in 0.1 dex intervals. Note that the quoted fluxes are in solar luminosities from a population of $10^6$ $M_{\\odot}$. We'll convert this to more standard flux units and normalize to $1\\,M_{\\odot}$ later on."
   ]
  },
  {
   "cell_type": "code",
   "execution_count": 1,
   "metadata": {},
   "outputs": [],
   "source": [
    "import numpy as np\n",
    "\n",
    "# Load in SSP templates\n",
    "seds = np.loadtxt('CWhite_files/spectra-bin-imf_chab100.z020.dat')"
   ]
  },
  {
   "cell_type": "markdown",
   "metadata": {},
   "source": [
    "You'll notice that it took quite a while to load in this set of templates. This is because the SEDs are sampled at 100,000 wavelength points for each of the 51 ages! This kind of resolution is relatively common from population synthesis models; however, most users will be fitting to broadband photometry over a subset of these wavelengths. So to cut down on the runtime and memory usage without sacrificing significant information from the models, we can interpolate our models to coarses wavelength bins!"
   ]
  },
  {
   "cell_type": "code",
   "execution_count": 2,
   "metadata": {},
   "outputs": [
    {
     "data": {
      "text/plain": [
       "(100000, 52)"
      ]
     },
     "execution_count": 2,
     "metadata": {},
     "output_type": "execute_result"
    }
   ],
   "source": [
    "seds.shape"
   ]
  },
  {
   "cell_type": "code",
   "execution_count": 3,
   "metadata": {},
   "outputs": [],
   "source": [
    "# Extract template wavelengths\n",
    "wl = seds[:,0]\n",
    "\n",
    "# Define smaller set of wavelengths to conserve memory\n",
    "wl_interp = np.arange(2000,30000,10)\n",
    "logAges = np.arange(6,11.1,0.1)\n",
    "grid = np.zeros((wl_interp.size,logAges.size))\n",
    "for i in range(logAges.size):\n",
    "    sed = seds[:,i]\n",
    "    sed_interp = np.interp(wl_interp,wl,sed)\n",
    "    grid[:,i] = sed_interp\n",
    "\n",
    "# Convert fluxes to erg/s/Ang per solar mass of stars\n",
    "grid *= 1e-6 * 3.826e33"
   ]
  },
  {
   "cell_type": "markdown",
   "metadata": {},
   "source": [
    "## Create mock HST photometry\n",
    "\n",
    "We have our models, but now we need data to compare to! To generate these data, I'll simply simulate some photometry from one of the models I've already loaded in. How about we simulate Hubble observations of a 100 Myr old population with a mass of $10^9\\,M_{\\odot}$ located 1 Mpc away? To do this, let's pick out the BPASS SED corresponding to an age of $10^8$ yr, scale it to a mass of $10^9\\,M_{\\odot}$, and convolve it with our filter set. Finally, we'll add some noise to these data (assuming 10$\\sigma$ detections in each band) so that we're not just fitting the model to itself!"
   ]
  },
  {
   "cell_type": "code",
   "execution_count": 4,
   "metadata": {},
   "outputs": [],
   "source": [
    "from astropy.io import fits\n",
    "\n",
    "# Load in filter catalog. This catalog has throughput information for many different filters and many different\n",
    "# telescopes. We'll just pick out eight bands from the ACS and WFC3 instruments on HST spanning the near-UV to \n",
    "# near-IR and ignore the rest.\n",
    "filtCat = fits.open('CWhite_files/filt_master.fits')[1].data\n",
    "\n",
    "# Specify which filters we want to extract from our filter catalog\n",
    "acs = ['ACS_'+filt for filt in ['F435W','F606W','F814W','F850LP']] \n",
    "wfc3 = ['WFC3_'+filt for filt in ['F336W','F105W','F125W','F160W']]\n",
    "filtNames = acs + wfc3\n",
    "\n",
    "# Store (wavelength,throughput) data into a dictionary.\n",
    "filtDict = {}\n",
    "for filt in filtNames:\n",
    "    filtDict[filt] = filtCat[filt][0]"
   ]
  },
  {
   "cell_type": "code",
   "execution_count": 5,
   "metadata": {},
   "outputs": [],
   "source": [
    "# Generate mock photometry from 100 Myr SSP 1 Mpc away assuming 10-sigma detections in all bands\n",
    "\n",
    "# Define distance and stellar mass\n",
    "d = 3.086e24 # cm\n",
    "M = 1e9 # solar masses\n",
    "\n",
    "# Extract our chosen model, scale to 1e9 Msol and calculate flux at 1 Mpc\n",
    "model = grid[:,20] * M / (4 * np.pi * d**2) # erg/s/cm^2/A\n",
    "\n",
    "# Initialize empty dictionary where we'll store the \"observed\" photometry\n",
    "obsData = {}\n",
    "obsData['wl'] = np.zeros(len(filtNames))\n",
    "obsData['flux'] = np.zeros(len(filtNames))\n",
    "obsData['eflux'] = np.zeros(len(filtNames))\n",
    "\n",
    "# Loop over filter set to calculate flux in each band\n",
    "for i,filt in enumerate(filtNames):\n",
    "    \n",
    "    # Extract filter wavelengths and throughput data\n",
    "    lam = filtDict[filt][0]\n",
    "    thpt = filtDict[filt][1]\n",
    "    \n",
    "    # interpolate model SED to filter wavelengths\n",
    "    model_interp = np.interp(lam,wl_interp,model)\n",
    "    \n",
    "    # Convolve model through filter\n",
    "    flux = np.trapz(thpt*model_interp,x=lam) / np.trapz(thpt,x=lam)\n",
    "    \n",
    "    # Add Gaussian noise assuming a 10-sigma detection\n",
    "    fluxErr = flux/10.\n",
    "    flux = np.random.normal(flux, scale = fluxErr)\n",
    "    \n",
    "    # Store flux info in dictionary\n",
    "    obsData['flux'][i] = flux\n",
    "    obsData['eflux'][i] = fluxErr\n",
    "    \n",
    "    # Calculate filter effective wavelength and store in dictionary\n",
    "    wlEff = np.trapz(lam*thpt,x=lam) / np.trapz(thpt,x=lam)\n",
    "    obsData['wl'][i] = wlEff"
   ]
  },
  {
   "cell_type": "markdown",
   "metadata": {},
   "source": [
    "Great, now we have a simulated dataset! Let's plot our photometry to see how it compares to the model we generated it from..."
   ]
  },
  {
   "cell_type": "code",
   "execution_count": 6,
   "metadata": {},
   "outputs": [
    {
     "data": {
      "text/plain": [
       "<Figure size 1280x528 with 1 Axes>"
      ]
     },
     "metadata": {},
     "output_type": "display_data"
    }
   ],
   "source": [
    "import matplotlib.pyplot as plt\n",
    "import matplotlib\n",
    "matplotlib.rcParams.update({'font.size': 14})\n",
    "\n",
    "# Generate figure\n",
    "fig = plt.figure(figsize=(2*6.4,1.1*4.8))\n",
    "plt.xscale('log')\n",
    "plt.xlabel(r'Wavelength [\\AA]')\n",
    "plt.ylabel(r'Flux Density [erg s$^{-1}$ cm$^{-2}$ \\AA$^{-1}$]')\n",
    "\n",
    "# Plot model SED\n",
    "plt.plot(wl_interp, model, c='grey', zorder=0)\n",
    "\n",
    "# Plot simulated photometry\n",
    "plt.errorbar(obsData['wl'], obsData['flux'], yerr=obsData['eflux'], fmt='o', mfc='dodgerblue', mec='navy', ecolor='navy', capsize=8, capthick=2, ms=10)\n",
    "\n",
    "# Plot filter throughput curves\n",
    "ymin,ymax = model.min(),model.max()\n",
    "for filt in filtNames:\n",
    "    filtWl = filtDict[filt][0]\n",
    "    filtTh = filtDict[filt][1]\n",
    "    filtTh /= filtTh.max()\n",
    "    filtTh = 10**(0.2*(np.log10(ymax/ymin))+1)*filtTh * ymin\n",
    "    plt.plot(filtWl,filtTh)\n",
    "    \n",
    "plt.ylim(ymin=0)\n",
    "\n",
    "plt.show()"
   ]
  },
  {
   "cell_type": "markdown",
   "metadata": {},
   "source": [
    "# Iterative $\\chi^2$ Fit\n",
    "\n",
    "We finally have a dataset and a suite of models to compare it to! In particular, we want to recover the age and mass of the observed stellar population, so these are our two free parameters. To accomplish this, we'll opt for a simple chi-square fit, i.e., we want to minimize the sum of the square differences between each model and our data (normalized by the uncertainties in our data).\n",
    "\n",
    "The first step of this procedure is determining the (uniform) priors on mass and age. Let's adopt $[10^5,10^{11}]$ $M_{\\odot}$ and $[10^6,10^{11}]$ yr (set by the age range of BPASS) for the mass and age ranges, respectively. Then, for each (mass,age) combination, we calculate photometry for that model for our filter set. Finally, we calculate chi-squared as,\n",
    "\n",
    "$$\\chi^2=\\sum\\left(\\frac{\\mathrm{Data}-\\mathrm{Model}}{\\mathrm{Error}}\\right)^2, $$\n",
    "\n",
    "and pick out the (mass,age) combination that minimizes $\\chi^2$!"
   ]
  },
  {
   "cell_type": "code",
   "execution_count": 7,
   "metadata": {
    "scrolled": true
   },
   "outputs": [
    {
     "name": "stdout",
     "output_type": "stream",
     "text": [
      "Minimum chi-square: 11.92\n",
      "logMass: 9.0\n",
      "logAge:8.0\n"
     ]
    }
   ],
   "source": [
    "# Define age/mass ranges\n",
    "logMasses = np.arange(5,11.1,0.1)\n",
    "ageCols = np.arange(logAges.size) # this indexes the columns corresponding to a given age\n",
    "\n",
    "# Initialize minimized chi-squared as equal to infinity (we'll iteratively redefine this later)\n",
    "leastChisq = np.inf\n",
    "\n",
    "# Loop over parameter combinations\n",
    "for logMass in logMasses:\n",
    "    \n",
    "    for j in ageCols:\n",
    "        \n",
    "        # Scale model to currently-tested stellar mass and convert to flux units at 1 Mpc\n",
    "        mass = 10**logMass        \n",
    "        model = grid[:,j] * mass / (4 * np.pi * d**2) # erg/s/cm2/a\n",
    "        \n",
    "        # Generate photometry of model in our HST filter set\n",
    "        modelFluxes = np.zeros(len(filtNames))\n",
    "        for i,filt in enumerate(filtNames):\n",
    "                 \n",
    "            lam = filtDict[filt][0]\n",
    "            thpt = filtDict[filt][1]\n",
    "\n",
    "            # interpolate model to filter wavelengths\n",
    "            model_interp = np.interp(lam,wl_interp,model)\n",
    "\n",
    "            # Convolve model through filter\n",
    "            modelFlux = np.trapz(thpt*model_interp,x=lam) / np.trapz(thpt,x=lam) \n",
    "            modelFluxes[i] = modelFlux\n",
    "        \n",
    "        # Calculate chi^2\n",
    "        diff = obsData['flux'] - modelFluxes   \n",
    "        chisq = np.sum(diff**2/obsData['eflux']**2)\n",
    "        \n",
    "        # Compare current chi^2 to running minimum chi^2\n",
    "        if chisq < leastChisq:\n",
    "            \n",
    "            # If this is the current lowest chi^2, store the parameters and model for access outside of loop\n",
    "            leastChisq = chisq\n",
    "            fitParams = [logMass,logAges[j]]\n",
    "            bestSED = model\n",
    "            bestPhot = modelFluxes   \n",
    "\n",
    "# Print the minimum chi^2 and best-fit parameters\n",
    "print('Minimum chi-square: %0.2f\\nlogMass: %0.1f\\nlogAge:%0.1f' % (leastChisq,fitParams[0],fitParams[1]))\n",
    "        "
   ]
  },
  {
   "cell_type": "markdown",
   "metadata": {},
   "source": [
    "Unsurprisingly, a good fit was found! Let's take a look at the best-fit model SED and photometry along with our observed data."
   ]
  },
  {
   "cell_type": "code",
   "execution_count": 8,
   "metadata": {},
   "outputs": [
    {
     "data": {
      "image/png": "[encoded data removed]",
      "text/plain": [
       "<Figure size 921.6x380.16 with 1 Axes>"
      ]
     },
     "metadata": {
      "needs_background": "light"
     },
     "output_type": "display_data"
    }
   ],
   "source": [
    "# Generate figure\n",
    "fig = plt.figure(figsize=(2*6.4,1.1*4.8))\n",
    "plt.xscale('log')\n",
    "plt.xlabel(r'Wavelength [\\AA]')\n",
    "plt.ylabel(r'Flux Density [erg s$^{-1}$ cm$^{-2}$ \\AA$^{-1}$]')\n",
    "\n",
    "# Plot model SED\n",
    "plt.plot(wl_interp,bestSED,c='grey',zorder=0)\n",
    "\n",
    "# Plot model photometry\n",
    "plt.scatter(obsData['wl'], bestPhot, c='tomato', ec='maroon', marker='D', s=100, zorder=3)\n",
    "\n",
    "# Plot simulated photometry\n",
    "plt.errorbar(obsData['wl'], obsData['flux'], yerr=obsData['eflux'], fmt='o', mfc='dodgerblue', mec='navy', ecolor='navy', capsize=8, capthick=2, ms=10)\n",
    "\n",
    "# Plot filter throughput curves\n",
    "ymin,ymax = bestSED.min(),bestSED.max()\n",
    "for filt in filtNames:\n",
    "    filtWl = filtDict[filt][0]\n",
    "    filtTh = filtDict[filt][1]\n",
    "    filtTh /= filtTh.max()\n",
    "    filtTh = 10**(0.2*(np.log10(ymax/ymin))+1)*filtTh * ymin\n",
    "    plt.plot(filtWl,filtTh)\n",
    "    \n",
    "plt.ylim(ymin=0)\n",
    "\n",
    "plt.show()"
   ]
  },
  {
   "cell_type": "markdown",
   "metadata": {},
   "source": [
    "Beautiful! Now let's close with some discussion about how this simple exercise compares to what we actually do in practice..."
   ]
  },
  {
   "cell_type": "markdown",
   "metadata": {},
   "source": [
    "## Closing remarks\n",
    "\n",
    "The particular method we assumed here was indeed a special, simplified case. In practice, there are five additional key components that should be accounted for when fitting galaxy SEDs:\n",
    "\n",
    "1. Distance uncertainty\n",
    "We only know the distances (e.g. through Cepheid variables, Type Ia SNe, etc.) to a _very_ small fraction of the total number of galaxies we've observed. Additionally, the SEDs of most galaxies are cosmologically redshifted towards longer wavelengths. Any research-standard SED-fitting code must account for these cosmological effects by fitting for another free parameter, redshift. \n",
    "\n",
    "2. Metallicity\n",
    "In this exercise, we assumed that the stellar metallicity of our galaxy was equal to that of the Sun. This isn't a horrible assumption for Milky Way type galaxies, but many galaxies can be much more metal-poor or metal-rich, which impacts on their observed SEDs. Most population synthesis models (like BPASS) provide sets of SED templates, like the one we used above, for various stellar metallicities. This adds metallicity, $Z$, as an additional free parameter to your SED-fitting.\n",
    "\n",
    "3. Dust\n",
    "The presence of dust in the ISMs of galaxies can have a dramatic effect on their SEDs, absorbing blue starlight and re-emitting it in the far-infrared. Without accounting for dust, you might infer that a galaxy is older than it really is due to the lack of UV light (which mostly stems from young stars)! Prescriptions for dust extinction can be applied to your model SEDs, but this adds yet another free parameter (e.g. dust optical depth) to your fit.\n",
    "\n",
    "4. Complex star formation histories (SFHs)\n",
    "By fitting SSP SEDs, we implicitly assumed that all the stars in our galaxy were formed at the same time in an instantaneous burst of star formation (i.e. a delta function star formation history). However, in practice, galaxies undergo star formation over long periods of time, resulting in a global stellar population composed of many SSPs (a composite stellar population) with different metallicities and ages. Many SED-fitting codes allow the user to specify some functional form to this star formation history (e.g., $\\mathrm{SFR}(t)\\propto t$ or $\\mathrm{SFR}(t)\\propto te^{-t/\\tau}$ where $\\tau$ is a free parameter). Recently, attention has been paid to the implementation of non-parametric star formation histories in these codes due to the stochastic nature of star formation observed in real galaxies... There is truly a lot to be said on this subject!\n",
    "\n",
    "5. Attenuation by the IGM\n",
    "The light from very distant galaxies will not in general complete their journey through the intergalactic medium unscathed. At higher redshifts, larger amounts of neutral hydrogen exist in the IGM, which serves to absorb far-UV ($\\lambda<912$ \\AA) photons and resonantly scatter certain hydrogen line photons (e.g. Ly$\\alpha$) along the line of sight. Several attenuation models exist for this, which can be applied to your model SEDs when sampling your redshift parameter space.\n",
    "\n",
    "With the exception of SFHs, each of these points would be relatively straightforward to implement into this code! Essentially, addressing these points would entail adding additional dimensions to your grid of models (in addition to applying dust and IGM prescriptions, which is also fairly straightforward).\n",
    "\n",
    "To close, it is worth noting that with the addition of these free parameters, a simple least-squared fit may no longer be the best option. Recent SED-fitting codes (e.g. BEAGLE, BAGPIPES, Prospector) have implemented more sophisticated Bayesian sampling routines such as MCMC and nested sampling to efficiently sample the increasingly large parameter space while avoiding getting trapped in local minima in the chi^2 surface."
   ]
  }
 ],
 "metadata": {
  "kernelspec": {
   "display_name": "Python 3",
   "language": "python",
   "name": "python3"
  },
  "language_info": {
   "codemirror_mode": {
    "name": "ipython",
    "version": 3
   },
   "file_extension": ".py",
   "mimetype": "text/x-python",
   "name": "python",
   "nbconvert_exporter": "python",
   "pygments_lexer": "ipython3",
   "version": "3.6.7"
  }
 },
 "nbformat": 4,
 "nbformat_minor": 2
}
