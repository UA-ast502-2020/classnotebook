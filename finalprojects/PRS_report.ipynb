{
 "cells": [
  {
   "cell_type": "markdown",
   "metadata": {},
   "source": [
    "# AST 502 Final Project : Measuring galaxy shapes with Convolutional Neural Networks\n",
    "## Pranjal RS"
   ]
  },
  {
   "cell_type": "markdown",
   "metadata": {},
   "source": [
    "# Introduction\n",
    "\n",
    "Gravitational lensing is the distortion of light from distant galaxies due to the tidal fields of the matter along the line of sight. By detecting the effects of the foreground lens (galaxy clusters) on the images of distant galaxies we can indirectly map the dark matter distribution. In strong gravitational lensing the effects can be very dramatic such as formation of arcs, rings, multiple images, etc. However, in weak gravitational lensing galaxy shapes are distorted at percent levels, and therefore separating the lensing signal from the intrinsic shape variations of the galaxies becomes very challenging. The lensing signal is therefore dominated by the shape noise. In my research project I'm working on Kinematic Lensing (https://arxiv.org/pdf/1311.1489.pdf), which is a new technique proposed to reduce the shape noise. The basic idea is to use galaxy kinematics obtained from spectroscopic measurements and the Tully-Fisher relation to infer the intrinsic galaxy shape. Once we have the intrinsic galaxy shape and the observed shape, it is straight forward to compute the shear signal. To summarize, we use the imaging data to measure the observed shape and the spectroscopic data to infer the instrinsic shape and by combining these two bits of information we can measure the shear signal. Currently, I use a Markov Chain to perform fits on both, the imaging and the spectroscopic data. I thought it would be interesting to explore other techniques of measuring galaxy shapes and found a recent paper (https://arxiv.org/pdf/1902.08161.pdf) which uses convolutional neural networks to measure galaxy shapes using the first data release of the DES. I tried implementing their neural network and tested it on simulated galaxy images."
   ]
  },
  {
   "attachments": {},
   "cell_type": "markdown",
   "metadata": {},
   "source": [
    "# Building the Convolutional Neural Network\n",
    "!<img src=\"./PRS_data/CNN.png\" alt=\"Drawing\" style=\"width: 800px;\"/>\n",
    "As the name suggests a convolutional neural network consists of layers which perform subsequent convolutions on the input image. It is very similar to the usual neural network but is designed to work with images or any other regularly sampled data. The basic idea is to reduce the image and extract only the most important features. Each convolution aims to extract a feature from the image which would be useful in the final classification. There are also other operations like max pooling which downsamples the the feature map of the image by taking the maximum value from the region of interest(the pixel window) and regularization which prevents both underfitting and overfitting. And finally we have a fully connected layer in which the output from the pooling layer is flattened out to a vector. Designing the CNN architecture is in itself a complicated task due to the large number of free parameters."
   ]
  },
  {
   "cell_type": "code",
   "execution_count": 1,
   "metadata": {},
   "outputs": [
    {
     "name": "stderr",
     "output_type": "stream",
     "text": [
      "Using TensorFlow backend.\n"
     ]
    }
   ],
   "source": [
    "from keras.models import Sequential\n",
    "import keras as keras\n",
    "import keras.regularizers as kr\n",
    "import keras.layers as kl\n",
    "import pickle\n",
    "import numpy as np\n",
    "import matplotlib.pyplot as plt"
   ]
  },
  {
   "cell_type": "code",
   "execution_count": 2,
   "metadata": {},
   "outputs": [],
   "source": [
    "reg = 5e-5\n",
    "model = Sequential()\n",
    "\n",
    "# Conv block\n",
    "model.add(kl.Conv2D(16, kernel_size=(3, 3), padding='same', kernel_regularizer=kr.l2(reg), input_shape=(48, 48, 1)))\n",
    "model.add(kl.Activation('relu'))\n",
    "model.add(kl.BatchNormalization())\n",
    "model.add(kl.Conv2D(16, kernel_size=(3, 3), padding='same', kernel_regularizer=kr.l2(reg)))\n",
    "model.add(kl.Activation('relu'))\n",
    "model.add(kl.BatchNormalization())\n",
    "model.add(kl.MaxPooling2D(strides=(2,2)))\n",
    "\n",
    "# Conv block\n",
    "# model.add(kl.Conv2D(32, (3, 3),  padding='same', kernel_regularizer=kr.l2(reg)))\n",
    "# model.add(kl.Activation('relu'))\n",
    "# model.add(kl.BatchNormalization())\n",
    "# model.add(kl.Conv2D(32, (3, 3),  padding='same', kernel_regularizer=kr.l2(reg)))\n",
    "# model.add(kl.Activation('relu'))\n",
    "# model.add(kl.BatchNormalization())\n",
    "# model.add(kl.MaxPooling2D(strides=(2,2)))\n",
    "\n",
    "# Conv block \n",
    "# model.add(kl.Conv2D(64, (3, 3),  padding='same', kernel_regularizer=kr.l2(reg)))\n",
    "# model.add(kl.Activation('relu'))\n",
    "# model.add(kl.BatchNormalization())\n",
    "model.add(kl.Conv2D(32, (1, 1),  padding='same', kernel_regularizer=kr.l2(reg)))\n",
    "model.add(kl.Activation('relu'))\n",
    "model.add(kl.BatchNormalization())\n",
    "model.add(kl.Conv2D(64, (3, 3),  padding='same', kernel_regularizer=kr.l2(reg)))\n",
    "model.add(kl.Activation('relu'))\n",
    "model.add(kl.BatchNormalization())\n",
    "model.add(kl.MaxPooling2D(strides=(2,2)))\n",
    "\n",
    "# Conv block\n",
    "# model.add(kl.Conv2D(128, (3, 3),  padding='same', kernel_regularizer=kr.l2(reg)))\n",
    "# model.add(kl.Activation('relu'))\n",
    "# model.add(kl.BatchNormalization())\n",
    "model.add(kl.Conv2D(64, (1, 1),  padding='same', kernel_regularizer=kr.l2(reg)))\n",
    "model.add(kl.Activation('relu'))\n",
    "model.add(kl.BatchNormalization())\n",
    "# model.add(kl.Conv2D(128, (3, 3),  padding='same', kernel_regularizer=kr.l2(reg)))\n",
    "# model.add(kl.Activation('relu'))\n",
    "# model.add(kl.BatchNormalization())\n",
    "model.add(kl.MaxPooling2D(strides=(4,4)))\n",
    "\n",
    "# Conv block\n",
    "model.add(kl.Conv2D(256, (3, 3),  padding='same',kernel_regularizer=kr.l2(reg)))\n",
    "model.add(kl.Activation('relu'))\n",
    "model.add(kl.BatchNormalization())\n",
    "model.add(kl.Conv2D(128, (1, 1),  padding='same',kernel_regularizer=kr.l2(reg)))\n",
    "model.add(kl.Activation('relu'))\n",
    "model.add(kl.BatchNormalization())\n",
    "model.add(kl.Conv2D(256, (3, 3),  padding='same',kernel_regularizer=kr.l2(reg)))\n",
    "model.add(kl.Activation('relu'))\n",
    "model.add(kl.BatchNormalization())\n",
    "          \n",
    "# End of convolution\n",
    "model.add(kl.GlobalAveragePooling2D())\n",
    "model.add(kl.Dense(1))\n",
    "\n",
    "\n",
    "model.compile(loss=keras.losses.SparseCategoricalCrossentropy(from_logits=True),\n",
    "              optimizer=keras.optimizers.SGD(lr=0.05),\n",
    "              metrics=['mean_absolute_error'])"
   ]
  },
  {
   "cell_type": "code",
   "execution_count": 3,
   "metadata": {},
   "outputs": [
    {
     "name": "stdout",
     "output_type": "stream",
     "text": [
      "Model: \"sequential_1\"\n",
      "_________________________________________________________________\n",
      "Layer (type)                 Output Shape              Param #   \n",
      "=================================================================\n",
      "conv2d_1 (Conv2D)            (None, 48, 48, 16)        160       \n",
      "_________________________________________________________________\n",
      "activation_1 (Activation)    (None, 48, 48, 16)        0         \n",
      "_________________________________________________________________\n",
      "batch_normalization_1 (Batch (None, 48, 48, 16)        64        \n",
      "_________________________________________________________________\n",
      "conv2d_2 (Conv2D)            (None, 48, 48, 16)        2320      \n",
      "_________________________________________________________________\n",
      "activation_2 (Activation)    (None, 48, 48, 16)        0         \n",
      "_________________________________________________________________\n",
      "batch_normalization_2 (Batch (None, 48, 48, 16)        64        \n",
      "_________________________________________________________________\n",
      "max_pooling2d_1 (MaxPooling2 (None, 24, 24, 16)        0         \n",
      "_________________________________________________________________\n",
      "conv2d_3 (Conv2D)            (None, 24, 24, 32)        544       \n",
      "_________________________________________________________________\n",
      "activation_3 (Activation)    (None, 24, 24, 32)        0         \n",
      "_________________________________________________________________\n",
      "batch_normalization_3 (Batch (None, 24, 24, 32)        128       \n",
      "_________________________________________________________________\n",
      "conv2d_4 (Conv2D)            (None, 24, 24, 64)        18496     \n",
      "_________________________________________________________________\n",
      "activation_4 (Activation)    (None, 24, 24, 64)        0         \n",
      "_________________________________________________________________\n",
      "batch_normalization_4 (Batch (None, 24, 24, 64)        256       \n",
      "_________________________________________________________________\n",
      "max_pooling2d_2 (MaxPooling2 (None, 12, 12, 64)        0         \n",
      "_________________________________________________________________\n",
      "conv2d_5 (Conv2D)            (None, 12, 12, 64)        4160      \n",
      "_________________________________________________________________\n",
      "activation_5 (Activation)    (None, 12, 12, 64)        0         \n",
      "_________________________________________________________________\n",
      "batch_normalization_5 (Batch (None, 12, 12, 64)        256       \n",
      "_________________________________________________________________\n",
      "max_pooling2d_3 (MaxPooling2 (None, 3, 3, 64)          0         \n",
      "_________________________________________________________________\n",
      "conv2d_6 (Conv2D)            (None, 3, 3, 256)         147712    \n",
      "_________________________________________________________________\n",
      "activation_6 (Activation)    (None, 3, 3, 256)         0         \n",
      "_________________________________________________________________\n",
      "batch_normalization_6 (Batch (None, 3, 3, 256)         1024      \n",
      "_________________________________________________________________\n",
      "conv2d_7 (Conv2D)            (None, 3, 3, 128)         32896     \n",
      "_________________________________________________________________\n",
      "activation_7 (Activation)    (None, 3, 3, 128)         0         \n",
      "_________________________________________________________________\n",
      "batch_normalization_7 (Batch (None, 3, 3, 128)         512       \n",
      "_________________________________________________________________\n",
      "conv2d_8 (Conv2D)            (None, 3, 3, 256)         295168    \n",
      "_________________________________________________________________\n",
      "activation_8 (Activation)    (None, 3, 3, 256)         0         \n",
      "_________________________________________________________________\n",
      "batch_normalization_8 (Batch (None, 3, 3, 256)         1024      \n",
      "_________________________________________________________________\n",
      "global_average_pooling2d_1 ( (None, 256)               0         \n",
      "_________________________________________________________________\n",
      "dense_1 (Dense)              (None, 1)                 257       \n",
      "=================================================================\n",
      "Total params: 505,041\n",
      "Trainable params: 503,377\n",
      "Non-trainable params: 1,664\n",
      "_________________________________________________________________\n"
     ]
    }
   ],
   "source": [
    "model.summary()"
   ]
  },
  {
   "cell_type": "markdown",
   "metadata": {},
   "source": [
    "The $summary()$ attribute shows us the complete architecture of the CNN code. It lists all the layers, the shape the data vector will have after it goes through it along with the total number of parameters required. For example, the first layer is a 3x3 convolution layer with 16 nodes. There each node will have 9 elements for the convolution matrix and a weight associated with that node giving us a total of 10 parameters per node. And therefore the first layer has $10*16$ = 160 paramaters. This more complex for subsequent layers as every node is connected to evevery other node in the next layer and we therefore have even larger number of parameters.\n",
    "\n",
    "Next we proceed to import the testing and training data. Since Keras requires a 3D data vector we need to reshape the images so that they the shape 48x48x1.  Since, I am currently working with simulation data I used the Galsim package in Python to generate galaxy images of varying sizes and ellipticities, which serves as the testing and training data set. The training and testing set comprise of 10000 and 500 images respectively."
   ]
  },
  {
   "cell_type": "code",
   "execution_count": 4,
   "metadata": {
    "scrolled": true
   },
   "outputs": [
    {
     "name": "stderr",
     "output_type": "stream",
     "text": [
      "/home/pranjalrs/miniconda3/lib/python3.7/site-packages/ipykernel_launcher.py:11: DeprecationWarning: Both axis > a.ndim and axis < -a.ndim - 1 are deprecated and will raise an AxisError in the future.\n",
      "  # This is added back by InteractiveShellApp.init_path()\n",
      "/home/pranjalrs/miniconda3/lib/python3.7/site-packages/ipykernel_launcher.py:19: DeprecationWarning: Both axis > a.ndim and axis < -a.ndim - 1 are deprecated and will raise an AxisError in the future.\n"
     ]
    }
   ],
   "source": [
    "def load_obj(name ):\n",
    "    with open('./PRS_data/' + name + '.pkl', 'rb') as f:\n",
    "        return pickle.load(f)\n",
    "    \n",
    "training = load_obj('training_data')\n",
    "testing = load_obj('testing_data')\n",
    "\n",
    "x_train, y_train = [], []\n",
    "for key, value in training.items():\n",
    "    image = value[0]/np.max(value[0])\n",
    "    image = np.expand_dims(image, axis=3)\n",
    "    \n",
    "    x_train.append(image)\n",
    "    y_train.append(value[1])\n",
    "    \n",
    "x_test, y_test = [], []\n",
    "for key, value in testing.items():\n",
    "    image = value[0]/np.max(value[0])\n",
    "    image = np.expand_dims(image, axis=3)\n",
    "    \n",
    "    x_test.append(image)\n",
    "    y_test.append(value[1])\n",
    "    \n",
    "x_train, y_train = np.array(x_train), np.array(y_train)\n",
    "x_test, y_test = np.array(x_test), np.array(y_test)"
   ]
  },
  {
   "cell_type": "code",
   "execution_count": 5,
   "metadata": {},
   "outputs": [
    {
     "data": {
      "text/plain": [
       "<matplotlib.contour.QuadContourSet at 0x7ff364334f98>"
      ]
     },
     "execution_count": 5,
     "metadata": {},
     "output_type": "execute_result"
    },
    {
     "data": {
      "image/png": "[encoded data removed]",
      "text/plain": [
       "<Figure size 432x288 with 1 Axes>"
      ]
     },
     "metadata": {
      "needs_background": "light"
     },
     "output_type": "display_data"
    }
   ],
   "source": [
    "# See what the images look like\n",
    "plt.contourf(x_train[0][:,:,0])"
   ]
  },
  {
   "cell_type": "code",
   "execution_count": 6,
   "metadata": {},
   "outputs": [],
   "source": [
    "history = []\n",
    "history = model.fit(x_train, y_train,\n",
    "          epochs=20, verbose = 0,\n",
    "          validation_data=(x_test, y_test))"
   ]
  },
  {
   "cell_type": "code",
   "execution_count": 7,
   "metadata": {},
   "outputs": [
    {
     "name": "stdout",
     "output_type": "stream",
     "text": [
      "Test loss: 0.0292070172727108\n",
      "Test accuracy: 0.9800847768783569\n"
     ]
    }
   ],
   "source": [
    "score = model.evaluate(x_test, y_test, verbose=0)\n",
    "print('Test loss:', score[0])\n",
    "print('Test accuracy:', score[1])"
   ]
  },
  {
   "cell_type": "code",
   "execution_count": 8,
   "metadata": {
    "scrolled": false
   },
   "outputs": [
    {
     "data": {
      "image/png": "[encoded data removed]",
      "text/plain": [
       "<Figure size 432x288 with 1 Axes>"
      ]
     },
     "metadata": {
      "needs_background": "light"
     },
     "output_type": "display_data"
    }
   ],
   "source": [
    "plt.plot(history.history['loss'], label='accuracy')\n",
    "plt.xlabel('Epoch')\n",
    "plt.ylabel('Loss')\n",
    "plt.legend(loc='lower right')\n",
    "\n",
    "test_loss, test_acc = model.evaluate(x_test, y_test, verbose=2)"
   ]
  },
  {
   "cell_type": "code",
   "execution_count": 9,
   "metadata": {
    "scrolled": true
   },
   "outputs": [
    {
     "name": "stdout",
     "output_type": "stream",
     "text": [
      "Shape: 0.31776211577462304, Prediction: -0.5828977823257446\n",
      "Shape: 0.23720257118455934, Prediction: -0.35281169414520264\n",
      "Shape: 0.019553605587253442, Prediction: -0.42636334896087646\n",
      "Shape: 0.28171707242605204, Prediction: -0.8364741802215576\n",
      "Shape: 0.0942329895532984, Prediction: -0.7739650011062622\n",
      "Shape: 0.05360451193221255, Prediction: -0.6378843784332275\n",
      "Shape: 0.34051708700154404, Prediction: -0.9739903211593628\n",
      "Shape: 0.35021720342978524, Prediction: -0.6387805938720703\n",
      "Shape: 0.35997403352802504, Prediction: -0.6912142038345337\n",
      "Shape: 0.23886423968259035, Prediction: -1.217195749282837\n"
     ]
    }
   ],
   "source": [
    "# Test prediction on a couple of test values\n",
    "predictions = model.predict(x_train[:11])\n",
    "for i, y in enumerate(y_train[:10]):\n",
    "    print(\"Shape: {}, Prediction: {}\".format(y, predictions[i][0]))"
   ]
  },
  {
   "cell_type": "markdown",
   "metadata": {},
   "source": [
    "<img src=\"./PRS_data/loss.png\" alt=\"Drawing\" style=\"width: 400px;\"/>\n"
   ]
  },
  {
   "attachments": {},
   "cell_type": "markdown",
   "metadata": {},
   "source": [
    "# Conclusions\n",
    "Unfortunately, the model performs very poorly and has a very low accuracy. The loss function which is sometimes referred to as the cost function tells us about the learning rate of our network. The above plot for the loss shows that the current network has a very low learning rate and therefore would take a very long time before it begins to converge. Increasing the number of epochs improves the accuracy but not by a signficant margin. For example, doubling the number of epochs from 20 to 40 improves the accuracy by 0.002. Adding regularization and batch normalization doesn't change the peformance of the model either. This indicates a problem with the network architecture itself and therefore we would need to perform tests like check magnitudes of loss weights, performing a grid search for hyperparameters, checking weight initializations, etc. One could also monitor the weights and updates for each layer during the training.\n",
    "\n",
    "However, the CNN used by the authors was able to match the precision of the maximum likelihood shape estimates for bright galaxies and infact significantly outperformed it on fainter galaxies. \n",
    "\n",
    "References: \n",
    "Dezső Ribli, László Dobos, István Csabai,  2019, https://arxiv.org/pdf/1902.08161.pdf"
   ]
  }
 ],
 "metadata": {
  "kernelspec": {
   "display_name": "Python 3.7.3 64-bit ('base': conda)",
   "language": "python",
   "name": "python37364bitbaseconda4e413252ce784de68cc93b76c764f1ab"
  },
  "language_info": {
   "codemirror_mode": {
    "name": "ipython",
    "version": 3
   },
   "file_extension": ".py",
   "mimetype": "text/x-python",
   "name": "python",
   "nbconvert_exporter": "python",
   "pygments_lexer": "ipython3",
   "version": "3.7.3"
  }
 },
 "nbformat": 4,
 "nbformat_minor": 2
}
